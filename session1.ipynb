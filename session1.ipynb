{
 "cells": [
  {
   "cell_type": "markdown",
   "id": "d06b8fbe-bb84-4458-9ce9-9d6d91413afe",
   "metadata": {},
   "source": [
    "## Substitution model"
   ]
  },
  {
   "cell_type": "code",
   "execution_count": 3,
   "id": "5ccb7cbd-fd64-4456-bb1c-45c10cc30c16",
   "metadata": {},
   "outputs": [
    {
     "data": {
      "text/plain": [
       "14"
      ]
     },
     "execution_count": 3,
     "metadata": {},
     "output_type": "execute_result"
    }
   ],
   "source": [
    "(* (+ 2 (+ 2 2)  (+ 2 2)) (+ 2 2)))"
   ]
  },
  {
   "cell_type": "code",
   "execution_count": null,
   "id": "f8d9a131-3f84-46a2-979a-2209dbf5239c",
   "metadata": {},
   "outputs": [],
   "source": [
    " (+ 2 2)  (+ 2 2) (+ 2 2)"
   ]
  },
  {
   "cell_type": "code",
   "execution_count": 2,
   "id": "28157575-f53b-481c-abea-e0045ecaefa6",
   "metadata": {},
   "outputs": [],
   "source": [
    "(define pi 3.14)   "
   ]
  },
  {
   "cell_type": "code",
   "execution_count": 4,
   "id": "0f6bdb28-b3be-4c3a-9576-35c7093b77cb",
   "metadata": {},
   "outputs": [
    {
     "name": "stdout",
     "output_type": "stream",
     "text": [
      "3.14"
     ]
    }
   ],
   "source": [
    "(display pi)"
   ]
  },
  {
   "cell_type": "code",
   "execution_count": 5,
   "id": "68f527fc-8e38-4322-b2db-4fb1c8295783",
   "metadata": {},
   "outputs": [],
   "source": [
    "(define (add a b) (+ a b))"
   ]
  },
  {
   "cell_type": "code",
   "execution_count": 6,
   "id": "82a3bfac-4ca2-4f94-9b50-6946fd37f897",
   "metadata": {},
   "outputs": [
    {
     "data": {
      "text/plain": [
       "3"
      ]
     },
     "execution_count": 6,
     "metadata": {},
     "output_type": "execute_result"
    }
   ],
   "source": [
    "(add 1 2)"
   ]
  },
  {
   "cell_type": "code",
   "execution_count": 8,
   "id": "5e3a5dab-212a-4c2c-a221-9ed9db5db138",
   "metadata": {},
   "outputs": [
    {
     "data": {
      "text/plain": [
       "6"
      ]
     },
     "execution_count": 8,
     "metadata": {},
     "output_type": "execute_result"
    }
   ],
   "source": [
    "(add (add 1 2) 3)"
   ]
  },
  {
   "cell_type": "code",
   "execution_count": 9,
   "id": "33b3f6b5-57eb-47d9-8057-539b099e1bef",
   "metadata": {},
   "outputs": [],
   "source": [
    "(define (square x)\n",
    "  (* x x))\n"
   ]
  },
  {
   "cell_type": "code",
   "execution_count": 10,
   "id": "140067f3-221d-4308-b351-50171041af04",
   "metadata": {},
   "outputs": [
    {
     "data": {
      "text/plain": [
       "16"
      ]
     },
     "execution_count": 10,
     "metadata": {},
     "output_type": "execute_result"
    }
   ],
   "source": [
    "(square 4)\n"
   ]
  },
  {
   "cell_type": "code",
   "execution_count": 11,
   "id": "3c9daf8c-a7c8-45f9-8a2f-ac11f2eb9902",
   "metadata": {},
   "outputs": [],
   "source": [
    "(define (square x)\n",
    "  (begin \n",
    "    (display \"square\")\n",
    "    (display x)\n",
    "    (newline)\n",
    "    (* x x)))"
   ]
  },
  {
   "cell_type": "code",
   "execution_count": 12,
   "id": "764ad2b1-1ae4-4d9d-81b5-b3b00e573b46",
   "metadata": {},
   "outputs": [
    {
     "name": "stdout",
     "output_type": "stream",
     "text": [
      "square4\n"
     ]
    },
    {
     "data": {
      "text/plain": [
       "16"
      ]
     },
     "execution_count": 12,
     "metadata": {},
     "output_type": "execute_result"
    }
   ],
   "source": [
    "(square 4)"
   ]
  },
  {
   "cell_type": "code",
   "execution_count": 13,
   "id": "d06aad75-f4fd-474b-a561-84af79d37fa1",
   "metadata": {},
   "outputs": [
    {
     "data": {
      "text/plain": [
       "6"
      ]
     },
     "execution_count": 13,
     "metadata": {},
     "output_type": "execute_result"
    }
   ],
   "source": [
    "(begin 1 2 3 4 5 6)"
   ]
  },
  {
   "cell_type": "code",
   "execution_count": 1,
   "id": "29f46bc0-c4b7-4271-8b6d-9fa1f0d07091",
   "metadata": {},
   "outputs": [],
   "source": [
    "(define (sqrt x)\n",
    "  (sqrt-iter 1.0 x))"
   ]
  },
  {
   "cell_type": "code",
   "execution_count": 4,
   "id": "3e8dd312-db9f-49e9-8620-11423ceb7c8d",
   "metadata": {},
   "outputs": [],
   "source": [
    "(define (sqrt-iter guess x)\n",
    "  (begin\n",
    "   (display (format \"sqrt-iter ~a ~a\\n\" guess x))\n",
    "   (if (good-enough? guess x)\n",
    "       guess\n",
    "       (sqrt-iter (improve guess x) x))))"
   ]
  },
  {
   "cell_type": "code",
   "execution_count": 5,
   "id": "18d1bcc6-2e02-4f11-a7b7-4c401367cd85",
   "metadata": {},
   "outputs": [],
   "source": [
    "(define (good-enough? guess x)\n",
    "  (< (abs (- (square guess) x)) 0.001))"
   ]
  },
  {
   "cell_type": "code",
   "execution_count": 6,
   "id": "6e03b06c-09ee-42f5-9df2-4f5c4e88494f",
   "metadata": {},
   "outputs": [],
   "source": [
    "(define (square x) (* x x))"
   ]
  },
  {
   "cell_type": "code",
   "execution_count": 7,
   "id": "d14edc75-e564-42ea-98af-b5f353474074",
   "metadata": {},
   "outputs": [],
   "source": [
    "(define (improve guess x)\n",
    "  (average guess (/ x guess)))"
   ]
  },
  {
   "cell_type": "code",
   "execution_count": 9,
   "id": "f07b0fae-4753-4565-9a49-8c63a14292e5",
   "metadata": {},
   "outputs": [],
   "source": [
    "(define (average a b)\n",
    "  (/ (+ a b) 2.0))"
   ]
  },
  {
   "cell_type": "code",
   "execution_count": 10,
   "id": "bbad528e-913e-4fc4-9360-a905cb8842e6",
   "metadata": {},
   "outputs": [
    {
     "data": {
      "text/plain": [
       "1.5"
      ]
     },
     "execution_count": 10,
     "metadata": {},
     "output_type": "execute_result"
    }
   ],
   "source": [
    "(average 1 2)"
   ]
  },
  {
   "cell_type": "code",
   "execution_count": 11,
   "id": "b43f1476-fa50-4b8e-a881-7b05fb50697d",
   "metadata": {},
   "outputs": [
    {
     "data": {
      "text/plain": [
       "3/2"
      ]
     },
     "execution_count": 11,
     "metadata": {},
     "output_type": "execute_result"
    }
   ],
   "source": [
    "(/ (+ 1 2) 2)"
   ]
  },
  {
   "cell_type": "code",
   "execution_count": 13,
   "id": "fdf66a1c-085d-4996-94cb-cd7c037307a2",
   "metadata": {},
   "outputs": [
    {
     "data": {
      "text/plain": [
       "1.5"
      ]
     },
     "execution_count": 13,
     "metadata": {},
     "output_type": "execute_result"
    }
   ],
   "source": [
    "(/ (+ 1 2) 2.0)"
   ]
  },
  {
   "cell_type": "code",
   "execution_count": 14,
   "id": "f8a6aa8f-f1cc-428b-87bd-7e2db0f5c320",
   "metadata": {},
   "outputs": [
    {
     "name": "stdout",
     "output_type": "stream",
     "text": [
      "sqrt-iter 1.0 4\n",
      "sqrt-iter 2.5 4\n",
      "sqrt-iter 2.05 4\n",
      "sqrt-iter 2.000609756097561 4\n",
      "sqrt-iter 2.0000000929222947 4\n"
     ]
    },
    {
     "data": {
      "text/plain": [
       "2.0000000929222947"
      ]
     },
     "execution_count": 14,
     "metadata": {},
     "output_type": "execute_result"
    }
   ],
   "source": [
    "(sqrt 4)"
   ]
  },
  {
   "cell_type": "code",
   "execution_count": 15,
   "id": "62dc5865-a04d-418e-9b6d-b9fcf8d81e8e",
   "metadata": {},
   "outputs": [
    {
     "name": "stdout",
     "output_type": "stream",
     "text": [
      "sqrt-iter 1.0 9\n",
      "sqrt-iter 5.0 9\n",
      "sqrt-iter 3.4 9\n",
      "sqrt-iter 3.023529411764706 9\n",
      "sqrt-iter 3.00009155413138 9\n"
     ]
    },
    {
     "data": {
      "text/plain": [
       "3.00009155413138"
      ]
     },
     "execution_count": 15,
     "metadata": {},
     "output_type": "execute_result"
    }
   ],
   "source": [
    "(sqrt 9)"
   ]
  },
  {
   "cell_type": "code",
   "execution_count": 16,
   "id": "ff93217b-d1b7-4f41-bc8b-d06ab05162b1",
   "metadata": {},
   "outputs": [
    {
     "name": "stdout",
     "output_type": "stream",
     "text": [
      "sqrt-iter 1.0 25\n",
      "sqrt-iter 13.0 25\n",
      "sqrt-iter 7.461538461538462 25\n",
      "sqrt-iter 5.406026962727994 25\n",
      "sqrt-iter 5.015247601944898 25\n",
      "sqrt-iter 5.000023178253949 25\n"
     ]
    },
    {
     "data": {
      "text/plain": [
       "5.000023178253949"
      ]
     },
     "execution_count": 16,
     "metadata": {},
     "output_type": "execute_result"
    }
   ],
   "source": [
    "(sqrt 25)"
   ]
  },
  {
   "cell_type": "code",
   "execution_count": 17,
   "id": "711a132c-93b1-4ce3-ba08-e94b9d302b0b",
   "metadata": {},
   "outputs": [
    {
     "name": "stdout",
     "output_type": "stream",
     "text": [
      "sqrt-iter 100 4\n",
      "sqrt-iter 50.02 4\n",
      "sqrt-iter 25.04998400639744 4\n",
      "sqrt-iter 12.604832373535453 4\n",
      "sqrt-iter 6.4610854923746075 4\n",
      "sqrt-iter 3.5400882555851294 4\n",
      "sqrt-iter 2.335001794270127 4\n",
      "sqrt-iter 2.0240312882070577 4\n",
      "sqrt-iter 2.0001426615330145 4\n"
     ]
    },
    {
     "data": {
      "text/plain": [
       "2.0001426615330145"
      ]
     },
     "execution_count": 17,
     "metadata": {},
     "output_type": "execute_result"
    }
   ],
   "source": [
    "(sqrt-iter 100 4)"
   ]
  },
  {
   "cell_type": "code",
   "execution_count": 21,
   "id": "18ae178e-007e-45ce-9e4f-c7f9cc74a4a4",
   "metadata": {},
   "outputs": [],
   "source": [
    "(define (sqrt x)\n",
    "  (define (sqrt-iter guess x)\n",
    "    (display (format \"sqrt-iter ~a ~a\\n\" guess x))\n",
    "    (if (good-enough? guess x)\n",
    "        guess\n",
    "        (sqrt-iter (improve guess x) x)))\n",
    "\n",
    "  (define (good-enough? guess x)\n",
    "    (< (abs (- (square guess) x)) 0.001))\n",
    "\n",
    "  (define (square x) (* x x))\n",
    "\n",
    "  (define (improve guess x)\n",
    "    (average guess (/ x guess)))\n",
    "\n",
    "  (define (average a b)\n",
    "    (/ (+ a b) 2.0))\n",
    "\n",
    "   (sqrt-iter 1.0 x))"
   ]
  },
  {
   "cell_type": "code",
   "execution_count": 22,
   "id": "813a6baa-c2a4-49fe-a926-4eea70854f7b",
   "metadata": {},
   "outputs": [
    {
     "name": "stdout",
     "output_type": "stream",
     "text": [
      "sqrt-iter 1.0 5\n",
      "sqrt-iter 3.0 5\n",
      "sqrt-iter 2.3333333333333335 5\n",
      "sqrt-iter 2.238095238095238 5\n",
      "sqrt-iter 2.2360688956433634 5\n"
     ]
    },
    {
     "data": {
      "text/plain": [
       "2.2360688956433634"
      ]
     },
     "execution_count": 22,
     "metadata": {},
     "output_type": "execute_result"
    }
   ],
   "source": [
    "(sqrt 5)"
   ]
  },
  {
   "cell_type": "code",
   "execution_count": 23,
   "id": "266808a9-f50f-4f06-acd5-eeed5331e86c",
   "metadata": {},
   "outputs": [],
   "source": [
    "(define (sqrt x)\n",
    "  (define (sqrt-iter guess)\n",
    "    (display (format \"sqrt-iter ~a\\n\" guess))\n",
    "    (if (good-enough? guess)\n",
    "        guess\n",
    "        (sqrt-iter (improve guess))))\n",
    "\n",
    "\n",
    "  (define (good-enough? guess)\n",
    "    (< (abs (- (square guess) x)) 0.001))\n",
    "\n",
    "  (define (square n) (* n n))\n",
    "\n",
    "  (define (improve guess)\n",
    "    (average guess (/ x guess)))\n",
    "\n",
    "  (define (average a b)\n",
    "    (/ (+ a b) 2.0))\n",
    "\n",
    "  (sqrt-iter 1.0))"
   ]
  },
  {
   "cell_type": "code",
   "execution_count": 24,
   "id": "a2534562-bed5-43e1-8372-8ebb532cffc0",
   "metadata": {},
   "outputs": [
    {
     "name": "stdout",
     "output_type": "stream",
     "text": [
      "sqrt-iter 1.0\n",
      "sqrt-iter 2.5\n",
      "sqrt-iter 2.05\n",
      "sqrt-iter 2.000609756097561\n",
      "sqrt-iter 2.0000000929222947\n"
     ]
    },
    {
     "data": {
      "text/plain": [
       "2.0000000929222947"
      ]
     },
     "execution_count": 24,
     "metadata": {},
     "output_type": "execute_result"
    }
   ],
   "source": [
    "(sqrt 4)\n"
   ]
  },
  {
   "cell_type": "code",
   "execution_count": 25,
   "id": "25ab0736-a4a1-432b-8831-2468ce34d9e6",
   "metadata": {},
   "outputs": [],
   "source": [
    "(define (print-numbers n)\n",
    "  (if (> n 0)\n",
    "      (begin\n",
    "       (print-numbers (- n 1))\n",
    "       (display n)\n",
    "       (newline))))"
   ]
  },
  {
   "cell_type": "code",
   "execution_count": 26,
   "id": "9eeca416-c6bb-4e27-a03e-4b7cefc7c4f9",
   "metadata": {},
   "outputs": [
    {
     "name": "stdout",
     "output_type": "stream",
     "text": [
      "1\n",
      "2\n",
      "3\n",
      "4\n",
      "5\n"
     ]
    }
   ],
   "source": [
    "(print-numbers 5)"
   ]
  },
  {
   "cell_type": "code",
   "execution_count": 27,
   "id": "268ce554-754a-485c-afce-5697be011b0f",
   "metadata": {},
   "outputs": [],
   "source": [
    "(define (factorial n)\n",
    "  (if (= n 1)\n",
    "      1\n",
    "      (* n (factorial (- n 1)))))"
   ]
  },
  {
   "cell_type": "code",
   "execution_count": 28,
   "id": "d43b7a00-1592-4c71-92b4-170e841720fb",
   "metadata": {},
   "outputs": [
    {
     "data": {
      "text/plain": [
       "120"
      ]
     },
     "execution_count": 28,
     "metadata": {},
     "output_type": "execute_result"
    }
   ],
   "source": [
    "(factorial 5)"
   ]
  },
  {
   "cell_type": "code",
   "execution_count": 32,
   "id": "bd2743bb-d43e-4a3d-9db9-90ff7c8a5321",
   "metadata": {},
   "outputs": [],
   "source": [
    "(define (factorial n)\n",
    "  (fact-iter n 1))\n",
    "\n",
    "(define (fact-iter n result)\n",
    "  (display (format \"fact-iter ~a ~a\\n\" n result))\n",
    "  (if (= n 0)\n",
    "      result\n",
    "      (fact-iter (- n 1) (* result n))))"
   ]
  },
  {
   "cell_type": "code",
   "execution_count": 33,
   "id": "c1f13a1f-1bd3-4c73-8a42-dd6241b25d75",
   "metadata": {},
   "outputs": [
    {
     "name": "stdout",
     "output_type": "stream",
     "text": [
      "fact-iter 5 1\n",
      "fact-iter 4 5\n",
      "fact-iter 3 20\n",
      "fact-iter 2 60\n",
      "fact-iter 1 120\n",
      "fact-iter 0 120\n"
     ]
    },
    {
     "data": {
      "text/plain": [
       "120"
      ]
     },
     "execution_count": 33,
     "metadata": {},
     "output_type": "execute_result"
    }
   ],
   "source": [
    "(factorial 5)"
   ]
  },
  {
   "cell_type": "code",
   "execution_count": 34,
   "id": "0b75279a-d134-4bb5-ac18-d26de9c4d168",
   "metadata": {},
   "outputs": [],
   "source": [
    "(define (A x y)\n",
    "  (cond\n",
    "   ((= y 0) 0)\n",
    "   ((= x 0) (* 2 y))\n",
    "   ((= y 1) 2)\n",
    "   (else (A (- x 1) (A x (- y 1))))))"
   ]
  },
  {
   "cell_type": "code",
   "execution_count": 35,
   "id": "a3ae472d-a75d-415e-b014-f0dbb17593ed",
   "metadata": {},
   "outputs": [
    {
     "data": {
      "text/plain": [
       "10"
      ]
     },
     "execution_count": 35,
     "metadata": {},
     "output_type": "execute_result"
    }
   ],
   "source": [
    "(A 0 5)"
   ]
  },
  {
   "cell_type": "code",
   "execution_count": 37,
   "id": "4ccd9989-cb79-49aa-a549-fbea063f8a80",
   "metadata": {},
   "outputs": [
    {
     "data": {
      "text/plain": [
       "32"
      ]
     },
     "execution_count": 37,
     "metadata": {},
     "output_type": "execute_result"
    }
   ],
   "source": [
    "(A 1 5)"
   ]
  },
  {
   "cell_type": "code",
   "execution_count": null,
   "id": "65ec4ee0-9aa5-40a0-8eae-748819713c82",
   "metadata": {},
   "outputs": [],
   "source": [
    "(A 2 5)"
   ]
  },
  {
   "cell_type": "code",
   "execution_count": null,
   "id": "26d69256-9010-4c7a-85bd-111327170f7b",
   "metadata": {},
   "outputs": [],
   "source": []
  }
 ],
 "metadata": {
  "kernelspec": {
   "display_name": "Calysto Scheme 3",
   "language": "scheme",
   "name": "calysto_scheme"
  },
  "language_info": {
   "codemirror_mode": {
    "name": "scheme"
   },
   "mimetype": "text/x-scheme",
   "name": "scheme",
   "pygments_lexer": "scheme"
  }
 },
 "nbformat": 4,
 "nbformat_minor": 5
}
